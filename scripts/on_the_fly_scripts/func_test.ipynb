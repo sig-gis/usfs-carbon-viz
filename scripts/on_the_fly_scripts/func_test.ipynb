{
 "cells": [
  {
   "cell_type": "code",
   "execution_count": 24,
   "metadata": {},
   "outputs": [],
   "source": [
    "import ee\n",
    "import json\n",
    "from collections import defaultdict\n",
    "\n",
    "from generate_stats import *"
   ]
  },
  {
   "cell_type": "code",
   "execution_count": 25,
   "metadata": {},
   "outputs": [],
   "source": [
    "ee.Initialize(project = 'usfs-carbon-viz-test')"
   ]
  },
  {
   "cell_type": "code",
   "execution_count": 26,
   "metadata": {},
   "outputs": [],
   "source": [
    "img = ee.Image('projects/usfs-carbon-viz-test/assets/Carbon_Emissions/Carbon_Emissions_tile1')\n",
    "aoi = ee.Geometry.Polygon(\n",
    "        [[[-108.52348138536759, 33.337103038035806],\n",
    "          [-108.52348138536759, 33.282014356912065],\n",
    "          [-108.44108392443009, 33.282014356912065],\n",
    "          [-108.44108392443009, 33.337103038035806]]])"
   ]
  },
  {
   "cell_type": "code",
   "execution_count": 27,
   "metadata": {},
   "outputs": [
    {
     "ename": "NameError",
     "evalue": "name 'ee' is not defined",
     "output_type": "error",
     "traceback": [
      "\u001b[1;31m---------------------------------------------------------------------------\u001b[0m",
      "\u001b[1;31mNameError\u001b[0m                                 Traceback (most recent call last)",
      "Cell \u001b[1;32mIn[27], line 1\u001b[0m\n\u001b[1;32m----> 1\u001b[0m stats \u001b[38;5;241m=\u001b[39m \u001b[43mcompute_band_stats\u001b[49m\u001b[43m(\u001b[49m\u001b[43mimg\u001b[49m\u001b[43m,\u001b[49m\u001b[43m \u001b[49m\u001b[43maoi\u001b[49m\u001b[43m)\u001b[49m\n\u001b[0;32m      2\u001b[0m \u001b[38;5;28mprint\u001b[39m(stats)\n\u001b[0;32m      3\u001b[0m hist \u001b[38;5;241m=\u001b[39m generate_band_histograms(img, aoi)\n",
      "File \u001b[1;32mc:\\Users\\edalt\\PC357\\scripts\\on_the_fly\\generate_stats.py:24\u001b[0m, in \u001b[0;36mcompute_band_stats\u001b[1;34m(image, boundary_geometry)\u001b[0m\n\u001b[0;32m     20\u001b[0m band_image \u001b[38;5;241m=\u001b[39m image\u001b[38;5;241m.\u001b[39mselect(band)\n\u001b[0;32m     22\u001b[0m \u001b[38;5;66;03m# Reduce the image within the boundary geometry.\u001b[39;00m\n\u001b[0;32m     23\u001b[0m stats \u001b[38;5;241m=\u001b[39m band_image\u001b[38;5;241m.\u001b[39mreduceRegion(\n\u001b[1;32m---> 24\u001b[0m     reducer\u001b[38;5;241m=\u001b[39m\u001b[43mee\u001b[49m\u001b[38;5;241m.\u001b[39mReducer\u001b[38;5;241m.\u001b[39mmean()\n\u001b[0;32m     25\u001b[0m     \u001b[38;5;241m.\u001b[39mcombine(reducer2\u001b[38;5;241m=\u001b[39mee\u001b[38;5;241m.\u001b[39mReducer\u001b[38;5;241m.\u001b[39mmin(), sharedInputs\u001b[38;5;241m=\u001b[39m\u001b[38;5;28;01mTrue\u001b[39;00m)\n\u001b[0;32m     26\u001b[0m     \u001b[38;5;241m.\u001b[39mcombine(reducer2\u001b[38;5;241m=\u001b[39mee\u001b[38;5;241m.\u001b[39mReducer\u001b[38;5;241m.\u001b[39mmax(), sharedInputs\u001b[38;5;241m=\u001b[39m\u001b[38;5;28;01mTrue\u001b[39;00m)\n\u001b[0;32m     27\u001b[0m     \u001b[38;5;241m.\u001b[39mcombine(reducer2\u001b[38;5;241m=\u001b[39mee\u001b[38;5;241m.\u001b[39mReducer\u001b[38;5;241m.\u001b[39msum(), sharedInputs\u001b[38;5;241m=\u001b[39m\u001b[38;5;28;01mTrue\u001b[39;00m)\n\u001b[0;32m     28\u001b[0m     \u001b[38;5;241m.\u001b[39mcombine(reducer2\u001b[38;5;241m=\u001b[39mee\u001b[38;5;241m.\u001b[39mReducer\u001b[38;5;241m.\u001b[39mmedian(), sharedInputs\u001b[38;5;241m=\u001b[39m\u001b[38;5;28;01mTrue\u001b[39;00m)\n\u001b[0;32m     29\u001b[0m     \u001b[38;5;241m.\u001b[39mcombine(reducer2\u001b[38;5;241m=\u001b[39mee\u001b[38;5;241m.\u001b[39mReducer\u001b[38;5;241m.\u001b[39mstdDev(), sharedInputs\u001b[38;5;241m=\u001b[39m\u001b[38;5;28;01mTrue\u001b[39;00m),\n\u001b[0;32m     30\u001b[0m     geometry\u001b[38;5;241m=\u001b[39mboundary_geometry,\n\u001b[0;32m     31\u001b[0m     scale\u001b[38;5;241m=\u001b[39m\u001b[38;5;241m30\u001b[39m,\n\u001b[0;32m     32\u001b[0m     bestEffort\u001b[38;5;241m=\u001b[39m\u001b[38;5;28;01mTrue\u001b[39;00m\n\u001b[0;32m     33\u001b[0m )\n\u001b[0;32m     35\u001b[0m \u001b[38;5;66;03m# Fetch and format the results for this band.\u001b[39;00m\n\u001b[0;32m     36\u001b[0m stats \u001b[38;5;241m=\u001b[39m stats\u001b[38;5;241m.\u001b[39mgetInfo()\n",
      "\u001b[1;31mNameError\u001b[0m: name 'ee' is not defined"
     ]
    }
   ],
   "source": [
    "stats = compute_band_stats(img, aoi)\n",
    "print(stats)\n",
    "hist = generate_band_histograms(img, aoi)\n",
    "print(hist)\n"
   ]
  }
 ],
 "metadata": {
  "kernelspec": {
   "display_name": "ee",
   "language": "python",
   "name": "python3"
  },
  "language_info": {
   "codemirror_mode": {
    "name": "ipython",
    "version": 3
   },
   "file_extension": ".py",
   "mimetype": "text/x-python",
   "name": "python",
   "nbconvert_exporter": "python",
   "pygments_lexer": "ipython3",
   "version": "3.11.9"
  }
 },
 "nbformat": 4,
 "nbformat_minor": 2
}
